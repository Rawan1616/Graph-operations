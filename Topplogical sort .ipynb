{
 "cells": [
  {
   "cell_type": "code",
   "execution_count": null,
   "id": "7cc7d189",
   "metadata": {},
   "outputs": [],
   "source": [
    "from collections import defaultdict, deque"
   ]
  },
  {
   "cell_type": "code",
   "execution_count": null,
   "id": "c9c5f1da",
   "metadata": {},
   "outputs": [],
   "source": [
    "\n",
    "def dfs_topological_sort(vertices, edges):\n",
    "    graph = defaultdict(list)\n",
    "    visited = set()\n",
    "    stack = []\n",
    "\n",
    "    for u, v in edges:\n",
    "        graph[u].append(v)\n",
    "\n",
    "    def dfs(node):\n",
    "        visited.add(node)\n",
    "        for neighbor in graph[node]:\n",
    "            if neighbor not in visited:\n",
    "                dfs(neighbor)\n",
    "        stack.append(node)  \n",
    "    for v in vertices:\n",
    "        if v not in visited:\n",
    "            dfs(v)\n",
    "\n",
    "    return stack[::-1]\n",
    "\n",
    "vertices = ['A', 'B', 'C', 'D', 'E', 'F']\n",
    "edges = [('A', 'C'), ('B', 'C'), ('C', 'E'), ('E', 'F'), ('D', 'F')]\n",
    "\n",
    "print(\" Topological Sortis\")\n",
    "result = dfs_topological_sort(vertices, edges)\n",
    "print(\"\".join(result))\n"
   ]
  }
 ],
 "metadata": {
  "language_info": {
   "name": "python"
  }
 },
 "nbformat": 4,
 "nbformat_minor": 5
}
