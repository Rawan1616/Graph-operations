{
 "cells": [
  {
   "cell_type": "code",
   "execution_count": null,
   "id": "7cc7d189",
   "metadata": {},
   "outputs": [],
   "source": [
    "from collections import defaultdict, deque"
   ]
  },
  {
   "cell_type": "code",
   "execution_count": null,
   "id": "c9c5f1da",
   "metadata": {},
   "outputs": [],
   "source": [
    "\n",
    "def dfs_topological_sort(vertices, edges):\n",
    "    graph = defaultdict(list)\n",
    "    visited = set()\n",
    "    stack = []\n",
    "\n",
    "    for u, v in edges:\n",
    "        graph[u].append(v)\n",
    "\n",
    "    def dfs(node):\n",
    "        visited.add(node)\n",
    "        for neighbor in graph[node]:\n",
    "            if neighbor not in visited:\n",
    "                dfs(neighbor)\n",
    "        stack.append(node)  \n",
    "    for v in vertices:\n",
    "        if v not in visited:\n",
    "            dfs(v)\n",
    "\n",
    "    return stack[::-1]\n",
    "\n",
    "# /////////////////////////////test ///////////////////////////////////////\n",
    "all_nodes = []\n",
    "# set edges \n",
    "edges = [\n",
    "    (7, 5),\n",
    "    (7, 6),\n",
    "    (5, 2),\n",
    "    (5, 4),\n",
    "    (6, 4),\n",
    "    (6, 3),\n",
    "    (4, 1),\n",
    "    (3, 1),\n",
    "    (1, 0)\n",
    "]\n",
    "# set vertices\n",
    "for u, v in edges:\n",
    "    all_nodes.append(u)\n",
    "    all_nodes.append(v)\n",
    "\n",
    "vertices = sorted(set(all_nodes))\n",
    "\n",
    "result = dfs_topological_sort(vertices, edges)\n",
    "print(\" Topological Sortis\" , result)\n",
    "\n"
   ]
  }
 ],
 "metadata": {
  "language_info": {
   "name": "python"
  }
 },
 "nbformat": 4,
 "nbformat_minor": 5
}
