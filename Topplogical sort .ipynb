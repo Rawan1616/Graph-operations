{
 "cells": [
  {
   "cell_type": "code",
   "execution_count": null,
   "id": "7cc7d189",
   "metadata": {},
   "outputs": [],
   "source": [
    "from collections import defaultdict, deque\n",
    "\n"
   ]
  },
  {
   "cell_type": "code",
   "execution_count": null,
   "id": "c9c5f1da",
   "metadata": {},
   "outputs": [],
   "source": [
    "\n",
    "def topological_sort(vertices, edges):\n",
    "    graph = defaultdict(list)\n",
    "    indegree = {v: 0 for v in vertices}\n",
    "\n",
    "# /////arrows in for each node \n",
    "    for u, v in edges:\n",
    "        graph[u].append(v)\n",
    "        indegree[v] += 1\n",
    "\n",
    "    queue = deque([v for v in vertices if indegree[v] == 0])\n",
    "    topo_order = []\n",
    "\n",
    "    while queue:\n",
    "        node = queue.popleft()\n",
    "        topo_order.append(node)\n",
    "        for neighbor in graph[node]:\n",
    "            indegree[neighbor] -= 1\n",
    "            if indegree[neighbor] == 0:\n",
    "                queue.append(neighbor)\n",
    "\n",
    "    if len(topo_order) != len(vertices):\n",
    "        print(\"The graph is a  cyclic.\")\n",
    "    else:\n",
    "        print(\"Topological Sort Order:\", '  --'.join(topo_order))\n",
    "\n",
    "# //////////////////////tesst //\n",
    "vertices = ['A', 'B', 'C', 'D', 'E', 'F']\n",
    "edges = [('A', 'C'), ('B', 'C'), ('C', 'E'), ('E', 'F'), ('D', 'F')]\n",
    "\n",
    "print(\"=== Topological Sort ===\")\n",
    "topological_sort(vertices, edges)\n"
   ]
  }
 ],
 "metadata": {
  "language_info": {
   "name": "python"
  }
 },
 "nbformat": 4,
 "nbformat_minor": 5
}
