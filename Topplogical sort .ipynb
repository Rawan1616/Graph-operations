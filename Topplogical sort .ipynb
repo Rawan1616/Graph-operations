{
 "cells": [
  {
   "cell_type": "code",
   "execution_count": 2,
   "id": "7cc7d189",
   "metadata": {},
   "outputs": [],
   "source": [
    "from collections import defaultdict\n",
    "import heapq\n"
   ]
  },
  {
   "cell_type": "code",
   "execution_count": 3,
   "id": "c9c5f1da",
   "metadata": {},
   "outputs": [
    {
     "name": "stdout",
     "output_type": "stream",
     "text": [
      "oh my god There is a cycle\n"
     ]
    }
   ],
   "source": [
    "\n",
    "def dfs_topological_sort(vertices, edges):\n",
    "    graph = defaultdict(list)\n",
    "    in_degree = defaultdict(int)\n",
    "    visited = set()\n",
    "    recursion_stack = set()\n",
    "    stack = []\n",
    "    has_cycle = False\n",
    "\n",
    "    for u, v in edges:\n",
    "        graph[u].append(v)\n",
    "        in_degree[v] += 1\n",
    "\n",
    "    sources = [v for v in vertices if in_degree[v] == 0]\n",
    "\n",
    "    def dfs(node):\n",
    "        nonlocal has_cycle\n",
    "        if has_cycle:\n",
    "            return\n",
    "        visited.add(node)\n",
    "        recursion_stack.add(node)\n",
    "        for neighbor in graph[node]:\n",
    "            if neighbor not in visited:\n",
    "                dfs(neighbor)\n",
    "            elif neighbor in recursion_stack:\n",
    "                has_cycle = True\n",
    "        recursion_stack.remove(node)\n",
    "        stack.append(node)\n",
    "\n",
    "    for v in sources:\n",
    "        if v not in visited:\n",
    "            dfs(v)\n",
    "\n",
    "    for v in vertices:\n",
    "        if v not in visited:\n",
    "            dfs(v)\n",
    "\n",
    "    if has_cycle:\n",
    "        return None\n",
    "    return stack[::-1]\n",
    "\n",
    "# edges = [\n",
    "#     (7, 5), (7, 6),\n",
    "#     (5, 2), (5, 4),\n",
    "#     (6, 4), (6, 3),\n",
    "#     (4, 1), (3, 1),\n",
    "#     (1, 0)\n",
    "# ]\n",
    "# //test cycles \n",
    "edges = [\n",
    "    (0, 1),\n",
    "    (1, 2),\n",
    "    (2, 0)  \n",
    "]\n",
    "vertices = sorted({u for u, v in edges} | {v for u, v in edges})\n",
    "\n",
    "result = dfs_topological_sort(vertices, edges)\n",
    "if result is None:\n",
    "    print(\"oh my god There is a cycle\")\n",
    "else:\n",
    "    print(\"Topological sort starting frim sources:\", result)\n",
    "    \n",
    "    \n",
    "    "
   ]
  },
  {
   "cell_type": "code",
   "execution_count": 4,
   "id": "664c3490",
   "metadata": {},
   "outputs": [
    {
     "name": "stdout",
     "output_type": "stream",
     "text": [
      "MST Edges (vertex, weight): [(0, 6), (1, 2), (2, 3), (4, 5)]\n",
      "Total Cost of MST: 16\n"
     ]
    }
   ],
   "source": [
    "\n",
    "def prim_mst(vertices, edges, start):\n",
    "    graph = defaultdict(list)\n",
    "\n",
    "    for u, v, w in edges:\n",
    "        graph[u].append((w, v))\n",
    "        graph[v].append((w, u))  \n",
    "\n",
    "    visited = [False] * vertices\n",
    "    min_heap = [(0, start)]  \n",
    "    mst = []\n",
    "    total_cost = 0\n",
    "\n",
    "    while min_heap:\n",
    "        weight, u = heapq.heappop(min_heap)\n",
    "        if visited[u]:\n",
    "            continue\n",
    "        visited[u] = True\n",
    "        total_cost += weight\n",
    "        if weight != 0:\n",
    "            mst.append((u, weight))\n",
    "        for edge_weight, v in graph[u]:\n",
    "            if not visited[v]:\n",
    "                heapq.heappush(min_heap, (edge_weight, v))\n",
    "\n",
    "    if len(mst) != vertices - 1:\n",
    "        raise ValueError(\"Graph is not connected\")\n",
    "    return mst, total_cost\n",
    "\n",
    "# Example usage\n",
    "vertices = 5\n",
    "edges = [\n",
    "    (0, 1, 2),\n",
    "    (0, 3, 6),\n",
    "    (1, 2, 3),\n",
    "    (1, 3, 8),\n",
    "    (1, 4, 5),\n",
    "    (2, 4, 7),\n",
    "    (3, 4, 9)\n",
    "]\n",
    "mst, cost = prim_mst(vertices, edges, start=3)\n",
    "print(\"MST Edges (vertex, weight):\", mst)\n",
    "print(\"Total Cost of MST:\", cost)\n"
   ]
  },
  {
   "cell_type": "code",
   "execution_count": null,
   "id": "1b044dc9",
   "metadata": {},
   "outputs": [],
   "source": []
  }
 ],
 "metadata": {
  "kernelspec": {
   "display_name": "Python 3",
   "language": "python",
   "name": "python3"
  },
  "language_info": {
   "codemirror_mode": {
    "name": "ipython",
    "version": 3
   },
   "file_extension": ".py",
   "mimetype": "text/x-python",
   "name": "python",
   "nbconvert_exporter": "python",
   "pygments_lexer": "ipython3",
   "version": "3.10.12"
  }
 },
 "nbformat": 4,
 "nbformat_minor": 5
}
